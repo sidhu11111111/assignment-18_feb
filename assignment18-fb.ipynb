{
 "cells": [
  {
   "cell_type": "markdown",
   "id": "b6e4271c-9aa1-40fb-981b-38ddd5cedea2",
   "metadata": {},
   "source": [
    "#QNO.1 ANS"
   ]
  },
  {
   "cell_type": "markdown",
   "id": "e9f7c092-94e4-4535-8843-54cf83006ef5",
   "metadata": {},
   "source": [
    "#API:\n",
    "Application Programming Interface (API) is a software interface that allows two applications to interact with each other without any user intervention.\n",
    "\n",
    "#EXAMPLE OF API ARE:\n",
    "like in google maps:\n",
    "Google Maps is a popular app on billions of mobile devices around the world, but you're probably aware of at least a few dozen other apps that use Google Maps APIs to pull customized location data, send directions, and analyze all types of location data that can help businesses provide better services and establish streamlined connections with suppliers, customers, delivery services, and more.\n",
    "\n",
    "#USES OF API IN REAL LIFE:\n",
    "Online Payment Systems. Where digital money transfers occur, there is an API supporting the process. Many organizations choose to utilize APIs from a firm such as PayPal to provide secure, safe money transfers to their customers."
   ]
  },
  {
   "cell_type": "markdown",
   "id": "ce0305c7-b96c-4010-bb5b-aebafa5822f6",
   "metadata": {},
   "source": [
    "#QNO.2 ANS:\n",
    "#ADVANTAGE OF API:\n",
    "You have the code written for you. Just plug and play. Your development time is reduced significantly.\n",
    "If you are using standard APIs, then a lot of other people are using that as well. So your codebase is somewhat portable which at times is beneficial.\n",
    "Standard APIs usually have a lot of free community support in case you need troubleshooting. If you tend to write all of your own code then you are pretty much on your own as far as debugging is concerned.\n",
    "\n",
    "#DISADVANTAGE OF API:\n",
    "Well since you are using someone else's code, you have to understand the structure and assumptions of the developer.\n",
    "In case you need to tweak existing code to add some extra functionality you might need to wade through layers and layers of files just to identify the line where you need to make any changes. It can get pretty annoying at times."
   ]
  },
  {
   "cell_type": "markdown",
   "id": "523ad836-9357-4bd3-967d-95f107035bc2",
   "metadata": {},
   "source": [
    "#QNO.3 ANS :\n",
    "#WEB API:\n",
    "Web API is an API as the name suggests, it can be accessed over the web using the HTTP protocol.\n",
    "It is a framework that helps you to create and develop HTTP based RESTFUL services.\n",
    "web API is used in either a web server or a web browser.\n",
    "\n",
    "#DIFFRENCE BETWEEN API AND WEB-API:\n",
    "Both APIs and web services are technologies that enable the transfer of data between separate software applications. API is an interface that exposes an application's data to outside software, whereas web applications are one type of API with stricter requirements."
   ]
  },
  {
   "cell_type": "markdown",
   "id": "b1e1bea3-8663-4aed-a886-06d41f56b15a",
   "metadata": {},
   "source": [
    "#QNO.4 ANS:\n",
    "REST is a set of guidelines that offers flexible implementation, whereas SOAP is a protocol with specific requirements like XML messaging. REST APIs are lightweight, making them ideal for newer contexts like the Internet of Things (IoT), mobile application development, and serverless computing.\n",
    "\n",
    "#SHORTCOMING OF SOAP:\n",
    " It doesn’t take other formats like JSON into consideration.\n",
    " It uses XML format, SOAP is considered to be a slow platform because the payload is large for a simple string message.\n",
    " SOAP clients do not hold any stateful references to remote objects."
   ]
  },
  {
   "cell_type": "markdown",
   "id": "78f822a4-7eae-458e-a45b-3195a7482477",
   "metadata": {},
   "source": [
    "#QNO.5 ANS:\n",
    "REST is a set of guidelines that offers flexible implementation, whereas SOAP is a protocol with specific requirements like XML messaging. REST APIs are lightweight, making them ideal for newer contexts like the Internet of Things (IoT), mobile application development, and serverless computing.\n"
   ]
  }
 ],
 "metadata": {
  "kernelspec": {
   "display_name": "Python 3 (ipykernel)",
   "language": "python",
   "name": "python3"
  },
  "language_info": {
   "codemirror_mode": {
    "name": "ipython",
    "version": 3
   },
   "file_extension": ".py",
   "mimetype": "text/x-python",
   "name": "python",
   "nbconvert_exporter": "python",
   "pygments_lexer": "ipython3",
   "version": "3.10.8"
  }
 },
 "nbformat": 4,
 "nbformat_minor": 5
}
